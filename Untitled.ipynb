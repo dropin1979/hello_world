{
  "nbformat": 4,
  "nbformat_minor": 0,
  "metadata": {
    "colab": {
      "provenance": [],
      "authorship_tag": "ABX9TyOx9h8xfrU+HjdvbHwsIL5K",
      "include_colab_link": true
    },
    "kernelspec": {
      "name": "python3",
      "display_name": "Python 3"
    },
    "language_info": {
      "name": "python"
    }
  },
  "cells": [
    {
      "cell_type": "markdown",
      "metadata": {
        "id": "view-in-github",
        "colab_type": "text"
      },
      "source": [
        "<a href=\"https://colab.research.google.com/github/dropin1979/hello_world/blob/master/Untitled.ipynb\" target=\"_parent\"><img src=\"https://colab.research.google.com/assets/colab-badge.svg\" alt=\"Open In Colab\"/></a>"
      ]
    },
    {
      "cell_type": "code",
      "execution_count": 1,
      "metadata": {
        "colab": {
          "base_uri": "https://localhost:8080/"
        },
        "id": "dfoUFA6xfVOc",
        "outputId": "092ef17b-9f61-4aea-867b-62036890d1ff"
      },
      "outputs": [
        {
          "output_type": "stream",
          "name": "stdout",
          "text": [
            "tes\n"
          ]
        }
      ],
      "source": [
        "print(\"tes\")"
      ]
    },
    {
      "cell_type": "code",
      "source": [
        "year_born=(\"Paris Hilton\",1981)"
      ],
      "metadata": {
        "id": "CqkvcLXHgqwQ"
      },
      "execution_count": 2,
      "outputs": []
    },
    {
      "cell_type": "code",
      "source": [
        "celebs = [(\"Brad Pitt\", 1963), (\"Jack Nicholson\", 1937),(\"Justin Bieber\", 1994)]"
      ],
      "metadata": {
        "id": "jEfMkIH8kM3l"
      },
      "execution_count": 3,
      "outputs": []
    },
    {
      "cell_type": "code",
      "source": [
        "print(celebs)"
      ],
      "metadata": {
        "colab": {
          "base_uri": "https://localhost:8080/"
        },
        "id": "rRl-mSuUkRWt",
        "outputId": "e2997bea-82dd-4c16-90ee-ecc4fb74b7e2"
      },
      "execution_count": 6,
      "outputs": [
        {
          "output_type": "stream",
          "name": "stdout",
          "text": [
            "[('Brad Pitt', 1963), ('Jack Nicholson', 1937), ('Justin Bieber', 1994)]\n"
          ]
        }
      ]
    },
    {
      "cell_type": "code",
      "source": [
        "print(len(celebs))"
      ],
      "metadata": {
        "colab": {
          "base_uri": "https://localhost:8080/"
        },
        "id": "JHbgj5LskUO0",
        "outputId": "2650b9a5-4571-4366-a415-9f0c1685b851"
      },
      "execution_count": 7,
      "outputs": [
        {
          "output_type": "stream",
          "name": "stdout",
          "text": [
            "3\n"
          ]
        }
      ]
    },
    {
      "cell_type": "code",
      "source": [
        "for name,year in celebs:\n",
        "  if year<1981:\n",
        "    print(name)"
      ],
      "metadata": {
        "colab": {
          "base_uri": "https://localhost:8080/"
        },
        "id": "Y-Tcsy2rkdIi",
        "outputId": "7ab7162e-43a5-4dca-fdcc-447aeaaa80a3"
      },
      "execution_count": 10,
      "outputs": [
        {
          "output_type": "stream",
          "name": "stdout",
          "text": [
            "Brad Pitt\n",
            "Jack Nicholson\n"
          ]
        }
      ]
    },
    {
      "cell_type": "code",
      "source": [
        "studenci=[(\"marcin\",[\"fizyka\",\"matematyka\"]),(\"ktos\",[\"polski\",\"wf\"])]\n",
        "for name, subject in studenci:\n",
        "  print(name, \" takes \",len(subject),\" zajęć\")"
      ],
      "metadata": {
        "colab": {
          "base_uri": "https://localhost:8080/"
        },
        "id": "b8tqnUCZkpw9",
        "outputId": "c1dcedf2-82c7-4162-9d0b-bac20eb2bca5"
      },
      "execution_count": 13,
      "outputs": [
        {
          "output_type": "stream",
          "name": "stdout",
          "text": [
            "marcin  takes  2  zajęć\n",
            "ktos  takes  2  zajęć\n"
          ]
        }
      ]
    },
    {
      "cell_type": "code",
      "source": [
        "n=0\n",
        "for name, subject in studenci:\n",
        "  if \"fizyka\" in subject:\n",
        "      n+=1\n",
        "print(n,\" studentow uczy sie matematyki\")"
      ],
      "metadata": {
        "colab": {
          "base_uri": "https://localhost:8080/"
        },
        "id": "CIawcPpQlsbl",
        "outputId": "ec699853-eee8-41ae-e023-e164787f944d"
      },
      "execution_count": 17,
      "outputs": [
        {
          "output_type": "stream",
          "name": "stdout",
          "text": [
            "1  studentow uczy sie matematyki\n"
          ]
        }
      ]
    },
    {
      "cell_type": "code",
      "source": [
        "numbers=[13,25,343,23]\n",
        "count=0\n",
        "for n in numbers:\n",
        "  count+= n%2==1\n",
        "print(count>0)"
      ],
      "metadata": {
        "colab": {
          "base_uri": "https://localhost:8080/"
        },
        "id": "010eabYqmR-g",
        "outputId": "455cd1f8-e120-48cb-9bff-ba54bb9bcedc"
      },
      "execution_count": 20,
      "outputs": [
        {
          "output_type": "stream",
          "name": "stdout",
          "text": [
            "True\n"
          ]
        }
      ]
    },
    {
      "cell_type": "code",
      "source": [],
      "metadata": {
        "id": "UEM3SQ7Yq9v6"
      },
      "execution_count": null,
      "outputs": []
    }
  ]
}